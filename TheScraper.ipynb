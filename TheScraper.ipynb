{
 "cells": [
  {
   "cell_type": "markdown",
   "id": "2807732d",
   "metadata": {},
   "source": [
    "# Scraper"
   ]
  },
  {
   "cell_type": "markdown",
   "id": "a1aec085",
   "metadata": {},
   "source": [
    "The whole 'tool' consists of two parts: a Python script for data retrieval and an HTML to display the data on a map.<br>\n",
    "Run this notebook to scrape apartments. Replace in the HTML document :::API-KEY::: with your maptiler API key (https://cloud.maptiler.com/maps/).\n",
    "\n"
   ]
  },
  {
   "cell_type": "code",
   "execution_count": 1,
   "id": "4bfad93f",
   "metadata": {},
   "outputs": [],
   "source": [
    "# Import packages / functions, set path\n",
    "\n",
    "import sys, os\n",
    "\n",
    "import scrapeApartments as sap\n",
    "from scrapeApartments import Parameters\n",
    "import geopandas as gpd\n",
    "from shapely.geometry import Point\n",
    "\n",
    "PATH = '' # path to folder with the HTML file"
   ]
  },
  {
   "cell_type": "code",
   "execution_count": 2,
   "id": "6d23d83b",
   "metadata": {},
   "outputs": [
    {
     "name": "stdout",
     "output_type": "stream",
     "text": [
      "\n",
      "Scraping: 'comparis'\n",
      "Comparis accessed, max no. of pages: 8\n",
      "\n",
      "Scraping: 'homegate'\n",
      "Homegate accessed, max no. of pages: 3\n",
      "\n",
      "Scraping: 'immoscout'\n",
      "Immoscout accessed, max no. of pages: 2\n",
      "===> scraped a total of 66 relevant entries.\n",
      "\n",
      "\n",
      "Following addresses must be corrected:\n",
      "\n",
      "Index: 11, Address: nahe Goldbrunnenplatz, 8003 Zürich\n",
      "Index: 54, Address: nähe Schmiede Wiedikon, 8003 Zürich\n"
     ]
    }
   ],
   "source": [
    "# Define parameters for the scraping. Run the scraper and omit entries having certain keywords\n",
    "\n",
    "class MyParameters(Parameters):\n",
    "    PAGE = 'all'\n",
    "    ROOMS_MIN = 1.5\n",
    "    ROOMS_MAX = 50\n",
    "    SIZE_MIN = 45\n",
    "    SIZE_MAX = 1000\n",
    "    PRICE_MIN = 800\n",
    "    PRICE_MAX = 1700\n",
    "    RADIUS = 0\n",
    "    LOCATION = 'Zurich'\n",
    "    \n",
    "myprmtrs = MyParameters()\n",
    "results = myprmtrs.scrape()\n",
    "resultsCleaned = sap.cleanDescription(results, [' befristet', 'Befristet', 'WG', 'Mitbewohner', 'BEFRISTET', 'untermiete', 'Untermiete'])\n",
    "\n",
    "print('===> scraped a total of {} relevant entries.\\n\\n'.format(len(resultsCleaned)))  \n",
    "\n",
    "\n",
    "resultsGeo = sap.locate(resultsCleaned)\n",
    "print(\"Following addresses must be corrected:\\n\")\n",
    "for i,row in resultsGeo.loc[~(resultsGeo.lat > 0)].iterrows():\n",
    "    print(\"Index: {}, Address: \".format(i) + row.address)    "
   ]
  },
  {
   "cell_type": "markdown",
   "id": "aac8873e",
   "metadata": {},
   "source": [
    "Correct it as shown in the examples below and re-run locate():<br><br>\n",
    "Index: 4, Address: nahe Goldbrunnenplatz, 8003 Zürich<br>\n",
    "Index: 16, Address: Kaeferholzstrasse 42, 8057 Zürich<br>\n",
    "Index: 80, Address: nahe Schmiede Wiedikon, 8003 Zürich<br>\n",
    "<br><br>\n",
    "resultsGeo.loc[4, 'address'] = \"Goldbrunnenplatz 1, 8003 Zürich\"<br>\n",
    "resultsGeo.loc[16, 'address'] = \"Käferholzstrasse 42, 8057 Zürich\"<br>\n",
    "resultsGeo.loc[80, 'address'] = \"Schlossgasse 10, 8003 Zürich\"\n"
   ]
  },
  {
   "cell_type": "code",
   "execution_count": 3,
   "id": "86f491d3",
   "metadata": {},
   "outputs": [],
   "source": [
    "resultsGeo.loc[11, 'address'] = \"Goldbrunnenplatz 1, 8003 Zürich\"\n",
    "resultsGeo.loc[54, 'address'] = \"Schlossgasse 10, 8003 Zürich\""
   ]
  },
  {
   "cell_type": "code",
   "execution_count": 4,
   "id": "0756ca77",
   "metadata": {},
   "outputs": [],
   "source": [
    "resultsGeo = sap.locate(resultsGeo)\n",
    "for i,row in resultsGeo.loc[~(resultsGeo.lat > 0)].iterrows():\n",
    "    print(\"Index: {}, Address: \".format(i) + row.address)   "
   ]
  },
  {
   "cell_type": "code",
   "execution_count": 5,
   "id": "30e45bdf",
   "metadata": {},
   "outputs": [
    {
     "name": "stdout",
     "output_type": "stream",
     "text": [
      "Retrieving commuting times\n",
      "Commuting time retrieved for 10 of 66 entries.\n",
      "Commuting time retrieved for 20 of 66 entries.\n",
      "Commuting time retrieved for 30 of 66 entries.\n",
      "Commuting time retrieved for 40 of 66 entries.\n",
      "Commuting time retrieved for 50 of 66 entries.\n",
      "Commuting time retrieved for 60 of 66 entries.\n",
      "Commuting time retrieved for 66 of 66 entries.\n"
     ]
    }
   ],
   "source": [
    "# define location to commute to, get commute times and store dataframe as geojson\n",
    "\n",
    "commuteAddress = \"Zürich Hauptbahnhof, Zürich\"\n",
    "\n",
    "commuteLat, commuteLon = sap.locateAddress(commuteAddress)\n",
    "resultsCommute = sap.getCommuteTimes(resultsGeo,commuteLat, commuteLon)\n",
    "outpath = os.path.join(PATH,'destination.geojson')\n",
    "sap.createTargetGEOJSON(outpath, commuteAddress, title='Zürich HB')\n",
    "\n",
    "gdfPath = os.path.join(PATH,'wohnungen.geojson')\n",
    "gdf = gpd.GeoDataFrame(resultsCommute, geometry=gpd.points_from_xy(resultsCommute.lon, resultsCommute.lat))\n"
   ]
  },
  {
   "cell_type": "code",
   "execution_count": 6,
   "id": "c7fd658a",
   "metadata": {},
   "outputs": [],
   "source": [
    "x = [X for X in resultsGeo.lon.tolist()]\n",
    "y = [Y for Y in resultsGeo.lat.tolist()]\n",
    "centroid = [sum(x) / len( resultsGeo.lon.tolist()), sum(y) / len( resultsGeo.lat.tolist())]\n",
    "\n",
    "centroidString = \"var centerP = [\"+str(centroid[1])+\", \"+str(centroid[0])+\"]\"\n",
    "with open(os.path.join(PATH,\"centerpoint.txt\"), 'w') as file:\n",
    "    file.write(centroidString)\n",
    "\n",
    "geojsoned = gdf.to_json()\n",
    "gdfOut = 'var dataset='+geojsoned\n",
    "with open(gdfPath, 'w') as file:\n",
    "    file.write(gdfOut)"
   ]
  }
 ],
 "metadata": {
  "kernelspec": {
   "display_name": "Python 3",
   "language": "python",
   "name": "python3"
  },
  "language_info": {
   "codemirror_mode": {
    "name": "ipython",
    "version": 3
   },
   "file_extension": ".py",
   "mimetype": "text/x-python",
   "name": "python",
   "nbconvert_exporter": "python",
   "pygments_lexer": "ipython3",
   "version": "3.7.11"
  }
 },
 "nbformat": 4,
 "nbformat_minor": 5
}
